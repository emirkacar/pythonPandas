{
 "cells": [
  {
   "cell_type": "code",
   "execution_count": 1,
   "metadata": {},
   "outputs": [],
   "source": [
    "import numpy as np\n",
    "import pandas as pd"
   ]
  },
  {
   "cell_type": "code",
   "execution_count": 2,
   "metadata": {},
   "outputs": [],
   "source": [
    "df=pd.read_excel(\"C:/Users/Emir Kaçar/Desktop/27-SalarySheet.xlsx\")\n"
   ]
  },
  {
   "cell_type": "code",
   "execution_count": 3,
   "metadata": {},
   "outputs": [
    {
     "name": "stdout",
     "output_type": "stream",
     "text": [
      "       Employee Name            Department       Title  Salary\n",
      "0       Semaj Bowers             Marketing         Mid     600\n",
      "1        Gary Foster                 Sales         Mid     650\n",
      "2   Saniya Maldonado                    HR         Mid     600\n",
      "3     Jillian Zuniga                    HR     C-level    1000\n",
      "4      Courtney Mora                 Sales         Mid     550\n",
      "..               ...                   ...         ...     ...\n",
      "95          Jake Gay                 Sales      Junior     443\n",
      "96      Macy Webster               Finance     C-level    1250\n",
      "97     Jaquan Meyers             Marketing  Mid-Senior     800\n",
      "98       Willow Bush  Software Development      Junior     441\n",
      "99   Emmanuel Prince                 Sales         Mid     612\n",
      "\n",
      "[100 rows x 4 columns]\n"
     ]
    }
   ],
   "source": [
    "print(df)"
   ]
  },
  {
   "cell_type": "code",
   "execution_count": null,
   "metadata": {},
   "outputs": [],
   "source": [
    "#1) Toplamda kaç satır veri vardır?"
   ]
  },
  {
   "cell_type": "code",
   "execution_count": 4,
   "metadata": {},
   "outputs": [
    {
     "name": "stdout",
     "output_type": "stream",
     "text": [
      "100\n"
     ]
    }
   ],
   "source": [
    "satirVeriSayisi=df.shape[0]\n",
    "print(satirVeriSayisi)"
   ]
  },
  {
   "cell_type": "code",
   "execution_count": null,
   "metadata": {},
   "outputs": [],
   "source": [
    "#2) Bu firma ortalama ne kadar maaş vermektedir?"
   ]
  },
  {
   "cell_type": "code",
   "execution_count": 5,
   "metadata": {},
   "outputs": [
    {
     "name": "stdout",
     "output_type": "stream",
     "text": [
      "725.84\n"
     ]
    }
   ],
   "source": [
    "ortalamaMaas = df[\"Salary\"].mean()\n",
    "print(ortalamaMaas)"
   ]
  },
  {
   "cell_type": "code",
   "execution_count": null,
   "metadata": {},
   "outputs": [],
   "source": [
    "#3) Bu firmada departmanlara göre ortalama maaş karşılaştırması nasıldır?"
   ]
  },
  {
   "cell_type": "code",
   "execution_count": 6,
   "metadata": {},
   "outputs": [
    {
     "name": "stdout",
     "output_type": "stream",
     "text": [
      "Department\n",
      "Finance                 805.411765\n",
      "HR                      640.937500\n",
      "Marketing               707.000000\n",
      "Sales                   656.666667\n",
      "Software Development    826.409091\n",
      "Name: Salary, dtype: float64\n"
     ]
    }
   ],
   "source": [
    "grupla = df.groupby(\"Department\")[\"Salary\"].mean()\n",
    "print(grupla)"
   ]
  },
  {
   "cell_type": "code",
   "execution_count": null,
   "metadata": {},
   "outputs": [],
   "source": [
    "#4) Bu firmada title (senior - junior) durumuna göre ortalama maaş karşılaştırması nasıldır?"
   ]
  },
  {
   "cell_type": "code",
   "execution_count": 14,
   "metadata": {},
   "outputs": [
    {
     "name": "stdout",
     "output_type": "stream",
     "text": [
      "['Mid' 'C-level' 'Mid-Senior' 'Senior' 'Junior']\n",
      "440.625\n",
      "867.7777777777778\n",
      "Junior maas ortalamasi < senior maas ortalamasi\n"
     ]
    }
   ],
   "source": [
    "titleUnique=df[\"Title\"].unique()\n",
    "print(titleUnique)\n",
    "\n",
    "junior = df[df[\"Title\"]==\"Junior\"]\n",
    "juniorMaasOrtalamasi = junior[\"Salary\"].mean()\n",
    "print(juniorMaasOrtalamasi)\n",
    "\n",
    "senior = df[df[\"Title\"]==\"Senior\"]\n",
    "seniorMaasOrtalamasi = senior[\"Salary\"].mean()\n",
    "print(seniorMaasOrtalamasi)\n",
    "\n",
    "if(juniorMaasOrtalamasi < seniorMaasOrtalamasi):\n",
    "    print(\"Junior maas ortalamasi < senior maas ortalamasi\")\n",
    "elif(juniorMaasOrtalamasi==seniorMaasOrtalamasi):\n",
    "    print(\"Maaslar esittir\")\n",
    "else:\n",
    "    print(\"junior maas ortalamasi > senior maas ortalamasi \")"
   ]
  },
  {
   "cell_type": "code",
   "execution_count": null,
   "metadata": {},
   "outputs": [],
   "source": [
    "#5) Senior bir kişinin junior bir kişiye göre maaşı ortalama yüzde kaç fazladır?"
   ]
  },
  {
   "cell_type": "code",
   "execution_count": 15,
   "metadata": {},
   "outputs": [
    {
     "name": "stdout",
     "output_type": "stream",
     "text": [
      "42715.27777777778\n"
     ]
    }
   ],
   "source": [
    "fark = seniorMaasOrtalamasi - juniorMaasOrtalamasi\n",
    "farkYuzdesi =fark * 100\n",
    "print(farkYuzdesi)\n"
   ]
  },
  {
   "cell_type": "code",
   "execution_count": null,
   "metadata": {},
   "outputs": [],
   "source": [
    "#6) Software development departmanında senior bir kişinin junior bir kişiye göre maaşı ortalama ne kadar fazladır?"
   ]
  },
  {
   "cell_type": "code",
   "execution_count": 44,
   "metadata": {},
   "outputs": [
    {
     "name": "stdout",
     "output_type": "stream",
     "text": [
      "430.3333333333333\n",
      "Farki = 464.6666666666667\n",
      "Bolumu = 2.0797831138652207\n"
     ]
    }
   ],
   "source": [
    "\n",
    "softwareDevelopment=df[df[\"Department\"]==\"Software Development\"]\n",
    "junior = softwareDevelopment[softwareDevelopment[\"Title\"]==\"Junior\"]\n",
    "juniorMaasOrtalama=junior[\"Salary\"].mean()\n",
    "print(juniorMaasOrtalama)\n",
    "\n",
    "senior = softwareDevelopment[softwareDevelopment[\"Title\"]==\"Senior\"]\n",
    "seniorMaasOrtalama=senior[\"Salary\"].mean()\n",
    "print(f\"Farki = {seniorMaasOrtalama-juniorMaasOrtalama}\")\n",
    "print(f\"Bolumu = {seniorMaasOrtalama/juniorMaasOrtalama}\")"
   ]
  },
  {
   "cell_type": "code",
   "execution_count": null,
   "metadata": {},
   "outputs": [],
   "source": [
    "#7) Finance departmanında c-level bir kişinin mid-senior bir kişiye göre maaşı ortalama ne kadar fazladır?"
   ]
  },
  {
   "cell_type": "code",
   "execution_count": 45,
   "metadata": {},
   "outputs": [
    {
     "name": "stdout",
     "output_type": "stream",
     "text": [
      "      Employee Name Department    Title  Salary\n",
      "0      Semaj Bowers  Marketing      Mid     600\n",
      "1       Gary Foster      Sales      Mid     650\n",
      "2  Saniya Maldonado         HR      Mid     600\n",
      "3    Jillian Zuniga         HR  C-level    1000\n",
      "4     Courtney Mora      Sales      Mid     550\n",
      "1030.0\n",
      "790.0\n",
      "Finans departmaninda c-level bir kişinin mid-senior bir kisiye gore maasi ortalama 240 birim daha fazladir.\n",
      "1.3037974683544304\n"
     ]
    }
   ],
   "source": [
    "print(df.head(5))\n",
    "financeDepartment=df[df[\"Department\"]==\"Finance\"]\n",
    "cLevelMaas=financeDepartment[financeDepartment[\"Title\"]==\"C-level\"]\n",
    "cLevelMaasOrtalamasi = cLevelMaas[\"Salary\"].mean()\n",
    "print(cLevelMaasOrtalamasi)\n",
    "\n",
    "midSenior= financeDepartment[financeDepartment[\"Title\"]==\"Mid-Senior\"]\n",
    "midSeniorMaasOrtalamasi = midSenior[\"Salary\"].mean()\n",
    "print(midSeniorMaasOrtalamasi)\n",
    "print(f\"Finans departmaninda c-level bir kişinin mid-senior bir kisiye gore maasi ortalama {(cLevelMaasOrtalamasi-midSeniorMaasOrtalamasi).astype(int)} birim daha fazladir.\")\n",
    "\n",
    "\n",
    "\n"
   ]
  },
  {
   "cell_type": "code",
   "execution_count": null,
   "metadata": {},
   "outputs": [],
   "source": [
    "#8) Software development departmanında c-level çalışan sayısı marketing departmanında çalışana oranla kaç kat fazladır?"
   ]
  },
  {
   "cell_type": "code",
   "execution_count": 42,
   "metadata": {},
   "outputs": [
    {
     "name": "stdout",
     "output_type": "stream",
     "text": [
      "6\n",
      "18\n",
      "Software development departmanında c-level calisan sayisi marketing departmaninda calisana oranla 3 kat fazladir.\n"
     ]
    }
   ],
   "source": [
    "softwareDevelopment=df[df[\"Department\"]==\"Software Development\"]\n",
    "softCLevel=softwareDevelopment[softwareDevelopment[\"Title\"]==\"C-level\"]\n",
    "sofCLevelCalisanSayisi = len(softCLevel[\"Employee Name\"])\n",
    "print(sofCLevelCalisanSayisi)\n",
    "\n",
    "marketing=df[df[\"Department\"]==\"Marketing\"]\n",
    "employee=len(marketing[\"Employee Name\"])\n",
    "print(employee)\n",
    "\n",
    "print(f\"Software development departmanında c-level calisan sayisi marketing departmaninda calisana oranla {employee//sofCLevelCalisanSayisi} kat fazladir.\")"
   ]
  }
 ],
 "metadata": {
  "kernelspec": {
   "display_name": "Python 3",
   "language": "python",
   "name": "python3"
  },
  "language_info": {
   "codemirror_mode": {
    "name": "ipython",
    "version": 3
   },
   "file_extension": ".py",
   "mimetype": "text/x-python",
   "name": "python",
   "nbconvert_exporter": "python",
   "pygments_lexer": "ipython3",
   "version": "3.12.3"
  }
 },
 "nbformat": 4,
 "nbformat_minor": 2
}
